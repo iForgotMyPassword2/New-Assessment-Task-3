{
 "cells": [
  {
   "cell_type": "markdown",
   "id": "8485a21b",
   "metadata": {},
   "source": [
    "## Thesis Question: \"Suburbs with higher density yield better public transport usage\"\n",
    "\n",
    "This is my thesis question, and it outlines my hypothesis, which states that Australian suburbs, such as Hornsby, Woy Woy, Sydney CBD and Epping, will be able to achieve better public transport patronage with train and bus stations with higher density"
   ]
  },
  {
   "cell_type": "markdown",
   "id": "a2efd8f3",
   "metadata": {},
   "source": [
    "## Requirements Outline:\n",
    "### Functional requirements: \n",
    "- Data Loading: In order for my program to load certain file types and handle file errors, I will create a program that is able to load it based on the file extension (eg. txt, csv, json). This will allow my program to load data in formats that match those that it is programmed for.\n",
    "\n",
    "- Data Cleaning: In order to clean my datasets, I will be using pandas. To identify missing values, the function 'df.isnull().sum()' can be used. I can also drop columns with 'df.dropna', which will allow me to cut down on unnecessary columns with too many missing values. I can also identify duplicates with the df.duplicate() function, and these too can be cut down on with some code.\n",
    "\n",
    "- Data Analysis: My analysis will incorporate the mean patronage of train suburbs in Australia. This can be done by collecting and totalling all monthly reports for train patronage, and dividing to find averages. This can then be linked to average suburb densities. This can be done with 'Column1 + column2 .... ColumnX/X. I will not be using median or mode in my data analysis, but may focus and max and min functions.\n",
    "\n",
    "- Data Visualisation: I plan on using matplotlib to plot the comparisons between density and train patronage in Australian suburbs. This will allow me to create a visual representation of the patterns, and come to an eventual conclusion on my thesis statement. Functions I might be using in matplotlib include 'matplotlib.pyplot.plot(), which will allow me to create the comparing lines in the program. Furthermore, by using x and y coordinates, I can create a general curve to outline the relation to the density.\n",
    "\n",
    "- Data Reporting: The output given by the system will incorporate the UI interface given with matplotlib. It will also utilise the text based interface on VScode. However, with my datasets, I will use the extensions txt and csv. These will mostly be for my density and train patronage charts.\n",
    "\n",
    "### Non Functional Requirements:\n",
    "- Usability: the README document requires the project title, description, table of contents, technologies used, and more. It is a way for the user to get a basic understanding of the purpose of repository. It is useful to give a basic idea of what the user's role in the system is, and how to interpret the repository. Furthermore, in the programming aspect, It is vital to create an easy to use UI that has clarity and consistency.\n",
    "\n",
    "- Reliability: To ensure that no errors occur, they program will have to contain 'Else:' statements that make sure that if an error occurs from the User's side, they are redirected to start again or notified of the error. By using If-Else statements, a simple system can be created to account for all possible instances, minimising error and inconsistency in the UI.\n"
   ]
  },
  {
   "cell_type": "markdown",
   "id": "abd8e4ac",
   "metadata": {},
   "source": [
    "## Use Case:\n",
    "\n",
    "Actor: User\n",
    "\n",
    "Goal: To access, interact and manipulate given data, as well as get an understanding and come to an opinion about the thesis statement.\n",
    "\n",
    "Preconditions:\n",
    "- Datasets have been loaded into the program, and any required intallations of extensions has been completed\n",
    "- The user has access to the system interface\n",
    "\n",
    "Main Flow:\n",
    "1. User opens the program\n",
    "2. UI opens with a home screen in which the thesis statement and hypothesis is outlined\n",
    "3. A screen is given with options on what dataset and what medium (eg. graph, text based etc) they would like to view it in.\n",
    "    a) a table\n",
    "    b) a graph\n",
    "    c) text based\n",
    "4. System displays chosen form\n",
    "5. System gives option to exit or to continue\n",
    "6. If continuing, system provides option menu again\n",
    "    a) a table\n",
    "    b) a graph\n",
    "    c) text based\n",
    "7. If exiting: end program\n",
    "\n",
    "### Post conditions:\n",
    "- viewer has interacted with system\n",
    "- viewer has gained an opinion on the accuracy of thesis statement\n",
    "- viewer has gained information from the datasheets\n",
    "- Valid updates have been saved to the system\n",
    "- Data remains available and updated for additional analysis (if required)\n"
   ]
  },
  {
   "cell_type": "markdown",
   "id": "0de5d4d5",
   "metadata": {},
   "source": [
    "## Phase 2: Research\n",
    "\n",
    "### Research:\n",
    "- https://data.nsw.gov.au/data/dataset/?tags=train (Train patronage information NSW): This csv spreadsheet shows the train patronage in NSW suburbs, also showing how some stations may be busier than others. It shows the monthly train patronage (exit and entry), and also shows the train_ID (which may have to be dropped as a column altogether)\n",
    "\n",
    "- https://www.vic.gov.au/transport-patronage (Train patronage information VIC): This is similar to NSW train patronage, although more work will be done on dropping columns, getting rid of missing values and loading the csv file in the UI as a '.csv'.\n",
    "\n",
    "- https://en.wikipedia.org/wiki/Urbanization_in_Australia (Wikipedia urbanisation in Australia) This document shows the rapid urbanisation in Australia, also showing the densest suburbs in Australia using the metric 'people/sq km'. By creating a csv myself with this information, I can convert all the given values into a matplotlib graph or chart to compare the data with my train patronage. (I will have to use functions to only add suburbs with train stations to the list as many of the suburbs have no clear transit stops)\n",
    "\n",
    "# Chosen Issue:\n",
    "- Suburbs in Australia are sprawling, and are not very dense on average. In fact, on a recent survey done by the ABS on population, Sydney was shown as having a population density of under 400 people/sq km. The recommended population density for a sustainable urban area, being around 10 000 people/sq km is orders of magnitude larger than Sydney's. Furthermore, as marked by the ABS, Sydney's area in sq km is over 12 000 km squared, making it one of the most sprawling cities in the world.\n",
    "- Having found that the large majority of Sydney-Siders are now forced to live west, several kilometres from the CBD where the vast majority of jobs are located, Public transport and general transport infrastructure is getting harder and harder to upgrade as more of the city moves away from the urban core.\n",
    "- My program seeks to show information using graphs and charts on how this shift in population is resulting in lower population densities, therefore resulting in lower transit patronage and ridership. Of course, I have researched external factors and have tried to come to a conclusion as accurate as possible by getting rid of external factors such as businesses, TOD (transit oriented developement), and interchanges.\n",
    "\n",
    "\n",
    "#### Secondary Sources:\n",
    "- https://www.abs.gov.au/statistics/people/population/regional-population/latest-release\n",
    "- https://thepropertytribune.com.au/market-insights/how-population-density-is-reshaping-australian-cities/\n",
    "- https://www.thenewdaily.com.au/finance/property/2018/10/04/apartment-boom-high-density-suburbs\n",
    "\n",
    "\n",
    "## SEE - I paragraph:\n",
    "- density directly impacts transit use in Australian suburbs, assuming similar general population, car ownership rates and interchanges.\n",
    "This means that in Australian suburbs that are denser than their more suburban counterparts general perform better with transit ridership in the form of trains, metro, light rail and bus.\n",
    "This can be seen for example in the two suburbs 'Chatswood' and 'Edmonson Park'. These two sydney suburbs are polar opposites in terms of price and public transport options. With a density of approximately 2900 people/sq km, Edmonson park is denser than Sydney's average, but still far less than the recommended 10 000 people/sq km for an urban area. With only 1.9 million station entries in 2023, Edmonson park was only the 65th busiest station on the Sydney network. In comparison, Chatswood, with a population density of 14 800 people/sqkm, just over the recommended, the transit ridership is significantly higher with almsot 15 million entries in the same time period. This shows the importance of density when near good public transit, and its ability to reduce car ownership in Australian suburbs and improve general urban planning of the area.\n",
    "\n",
    "- Issues for/against\n",
    "while the comparison between chatswood and Edmonson park shows the role of density in predicting transit ridership, what it fails to account for is transit connectivity. With Chatswood far closer to the urban core, and with an extra metro interchange with the M1 line, Chatswood clearly has an advantage over Edmonson park, which is located 40 kilometres from the CBD and is located in a developing region of Sydney that has not achieved its full capacity at the urban fringes.\n",
    "- On the other hand, while Chatswood does have an interchange with the metro, it is safe to say that even if Edmonson Park recieved an interchange, assuming the current urban planning of both areas holds, Chatswood's ridership would far outcompete Edmonson Park, mostly as a result of the population. In addition, the data used depicts the entry/exit ridership, not really accounting for any interchanges as those are hard to monitor and to calculate. This downplays the importance of extra interchanges and focuses most of the data on the important aspect of population density.\n",
    "\n"
   ]
  },
  {
   "cell_type": "markdown",
   "id": "43f7013e",
   "metadata": {},
   "source": [
    "# Data dictinaries:\n",
    "## 'NSW_Train_patronage_per_station.csv'\n",
    "|Field|Datatype|Format for Display|Description|Example|Validation|\n",
    "|---|---|---|---|---|---|\n",
    "|_id|integer|NNNN|Identification|27|Must be a number|\n",
    "|station|String|X|Station names|Barangaroo Station|Must be a string ending with station|\n",
    "|Entry|integer|NNNNNNN|Number of entries to station|Town Hall Station: 1768424|must be a number|\n",
    "|Exit|integer|NNNNNNN|Number of station exits|Chatswood Station: 1529846|must be a number|\n",
    "|Total|integer|NNNNNNN|Total station patronage|Circular Quay: 1327691|must add entry and exit|\n",
    "\n",
    "## Suburban population densities\n",
    "|Field|Datatype|Format for Display|Description|Example|Validation|\n",
    "|---|---|---|---|---|---|\n",
    "|Suburb|string|X|Identification|Hornsby|Must be a string value and be an Australian Suburb|\n",
    "|station|String|X|Station names|Hornsby Station|Must be a string ending with station|\n",
    "|Density|integer|NNNNNNN|Population density (per square kilometre)|14 800|must be a number|\n"
   ]
  }
 ],
 "metadata": {
  "kernelspec": {
   "display_name": ".venv",
   "language": "python",
   "name": "python3"
  },
  "language_info": {
   "codemirror_mode": {
    "name": "ipython",
    "version": 3
   },
   "file_extension": ".py",
   "mimetype": "text/x-python",
   "name": "python",
   "nbconvert_exporter": "python",
   "pygments_lexer": "ipython3",
   "version": "3.6.8"
  }
 },
 "nbformat": 4,
 "nbformat_minor": 5
}
